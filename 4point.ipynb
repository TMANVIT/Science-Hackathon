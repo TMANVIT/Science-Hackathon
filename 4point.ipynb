{
 "cells": [
  {
   "cell_type": "code",
   "execution_count": 1,
   "metadata": {},
   "outputs": [],
   "source": [
    "import math\n",
    "import numpy as np\n",
    "import matplotlib.pyplot as plt\n",
    "import plotly.graph_objects as go\n",
    "import sympy as sp\n"
   ]
  },
  {
   "cell_type": "markdown",
   "metadata": {},
   "source": [
    "### Рассчет распределения интенсивности в ближней зоне"
   ]
  },
  {
   "cell_type": "code",
   "execution_count": 2,
   "metadata": {},
   "outputs": [],
   "source": [
    "sub_app = 39 # mm\n",
    "rad = 39 # mm\n",
    "N = int(5000)\n",
    "E0 = 1*10**10 # V/m\n",
    "leng = 200 # mm\n",
    "h = leng/N\n",
    "x0 = 100 * h\n",
    "y0 = 100 * h\n",
    "x_1 = 39 * h + x0\n",
    "y_1 = 39 * h + y0\n",
    "x_2 = -39 * h + x0\n",
    "y_2 = 39 * h + y0\n",
    "x_3 = -39 * h + x0\n",
    "y_3 = -39 * h + y0\n",
    "x_4 = 39 * h + x0\n",
    "y_5 = -39 * h + y0\n",
    "phi_1 = 0\n",
    "phi_2 = 5\n",
    "phi_3 = 10\n",
    "phi_4 = 15"
   ]
  },
  {
   "cell_type": "code",
   "execution_count": 3,
   "metadata": {},
   "outputs": [],
   "source": [
    "#_point_1_near_order\n",
    "k = 10000\n",
    "rad_s = rad * 25\n",
    "y0_s = 2500\n",
    "x0_s = 2500\n",
    "difmx = 0.2\n",
    "u = np.zeros((N, N))\n",
    "step_p = 2 * math.pi/k\n",
    "x_lap = np.zeros((k))\n",
    "y_lap = np.zeros((k))\n",
    "h_m = h * 25\n",
    "x_1 = (39 * h + x0)*25\n",
    "y_1 = (39 * h + y0)*25\n",
    "y_u = (rad * h + x_1)*25 \n",
    "x_r = (x_1 + rad * h)*25\n",
    "x_l = (x_1 - rad * h)*25\n",
    "y_d = (x_1 - rad * h)*25 \n",
    "for i in range(k):\n",
    "        x_lap[i] = (rad * math.cos(i*step_p) + x_1)*25\n",
    "        y_lap[i] = (rad * math.sin(i*step_p) + y_1)*25\n",
    "for i in range(2480,N):\n",
    "        for j in range(2480,N):\n",
    "                count = 0\n",
    "                sqr_u = (i - 3475)**2 + (j - 3476)**2 \n",
    "                sqr_r = (i - 3476)**2 + (j - 3475)**2\n",
    "                sqr_d = (i - 3475)**2 + (j - 3474)**2 \n",
    "                sqr_l = (i - 3474)**2 + (j - 3475)**2\n",
    "                sqr = (i - 3475)**2 + (j - 3475)**2\n",
    "                if(sqr < rad_s ** 2):\n",
    "                        u[i][j] = E0\n",
    "                # down side\n",
    "                if((sqr_l < rad_s ** 2) and (sqr > rad_s ** 2)):\n",
    "                        count += 1\n",
    "                        diff = 2 * rad_s**2\n",
    "                        ku = k*0.7\n",
    "                        en = k * 0.25\n",
    "                        while((abs(j - diff) > difmx) and(en < ku)):\n",
    "                                en += 1\n",
    "                                diff = y_lap[int(en)]\n",
    "                        dist = abs(i - x_lap[int(en)])\n",
    "                        app_l = u[i - 1, j] * dist/(dist + h_m) + E0 * h_m/(dist + h_m)\n",
    "                        #print(app_l)\n",
    "                else:\n",
    "                        app_l = 0\n",
    "                # upside\n",
    "                if((sqr_r < rad_s ** 2) and (sqr > rad_s ** 2)):\n",
    "                        if (j > 3474):\n",
    "                                count += 1\n",
    "                                diff = 2 * rad_s**2\n",
    "                                ku = k*0.3\n",
    "                                en = 0\n",
    "                                while((abs(j - diff) > difmx) and(en < ku)):\n",
    "                                        en += 1\n",
    "                                        diff = y_lap[int(en)]\n",
    "                                dist = abs(i - x_lap[int(en)])\n",
    "                                app_r = u[i + 1, j] * dist/(dist + h_m) + E0 * h_m/(dist + h_m)\n",
    "                                #print(app_r)\n",
    "                        if (j < 3475):\n",
    "                                count += 1\n",
    "                                diff = 2 * rad_s**2\n",
    "                                ku = k - 1\n",
    "                                en = k * 0.7\n",
    "                                while((abs(j - diff) > difmx) and(en < ku)):\n",
    "                                        en += 1\n",
    "                                        diff = y_lap[int(en)]\n",
    "                                dist = abs(i - x_lap[int(en)])\n",
    "                                app_r = u[i + 1, j] * dist/(dist + h_m) + E0 * h_m/(dist + h_m)\n",
    "                                #print(app_r)\n",
    "                else:\n",
    "                        app_r= 0\n",
    "                # right\n",
    "                if((sqr_u < rad_s ** 2) and (sqr > rad_s ** 2)):\n",
    "                        count += 1\n",
    "                        diff = 2 * rad_s**2\n",
    "                        ku = k * 0.5\n",
    "                        en = 0\n",
    "                        while((abs(i - diff) > difmx) and(en < ku)):\n",
    "                                en += 1\n",
    "                                diff = x_lap[int(en)]\n",
    "                        dist = abs(j - y_lap[int(en)])\n",
    "                        app_u = u[i, j + 1] * dist/(dist + h_m) + E0 * h_m/(dist + h_m)\n",
    "                else:\n",
    "                        app_u = 0\n",
    "                # left\n",
    "                if((sqr_d < rad_s ** 2) and (sqr > rad_s ** 2)):\n",
    "                        count += 1\n",
    "                        diff = 2 * rad_s**2\n",
    "                        ku = k - 1\n",
    "                        en = k * 0.5\n",
    "                        while((abs(i - diff) > difmx) and(en < ku)):\n",
    "                                en += 1\n",
    "                                diff = x_lap[int(en)]\n",
    "                        dist = abs(j - y_lap[int(en)])\n",
    "                        app_d = u[i, j - 1] * dist/(dist + h_m) + E0 * h_m/(dist + h_m)\n",
    "                else:\n",
    "                        app_d = 0\n",
    "                if(count == 3):\n",
    "                        u[i][j] = math.sqrt((app_l**2 + app_r**2 + app_u**2 + app_d**2)/3)\n",
    "                elif(count == 2):\n",
    "                        u[i][j] = math.sqrt((app_l**2 + app_r**2 + app_u**2 + app_d**2)/2)\n",
    "                        #print(u[i,j])\n",
    "                elif(count == 1):\n",
    "                        u[i][j] = math.sqrt(app_l**2 + app_r**2 + app_u**2 + app_d**2)\n",
    "                        #print(u[i,j])\n",
    "                        #print(app_u)\n",
    "                app_l = 0\n",
    "                app_r = 0\n",
    "                app_u = 0\n",
    "                app_d = 0"
   ]
  },
  {
   "cell_type": "code",
   "execution_count": 4,
   "metadata": {},
   "outputs": [],
   "source": [
    "# point_4_near_order\n",
    "u = u ** 2\n",
    "for i in range(N):\n",
    "        for j in range(N):\n",
    "                u[i][j] = u[4999 - i][4999 - j]\n",
    "                u[4999-i][j] = u[4999 - i][4999 - j]\n",
    "                u[i][4999 - j] = u[4999 - i][4999 - j] "
   ]
  },
  {
   "cell_type": "code",
   "execution_count": 5,
   "metadata": {},
   "outputs": [
    {
     "data": {
      "image/png": "[encoded data removed]",
      "text/plain": [
       "<Figure size 1200x1000 with 2 Axes>"
      ]
     },
     "metadata": {},
     "output_type": "display_data"
    }
   ],
   "source": [
    "plt.figure(figsize=(12,10))\n",
    "plt.axes()\n",
    "xy_graph = np.linspace(-100,100, N)\n",
    "X,Y = np.meshgrid(xy_graph,xy_graph)\n",
    "ax = plt.contourf(X, Y, u)\n",
    "plt.colorbar(ax)\n",
    "plt.title('Распределение интенсивности пучка в ближней зоне, Вт/м2')\n",
    "plt.xlabel('X, mm', fontsize = 16)\n",
    "plt.ylabel('Y, mm', fontsize = 16) \n",
    "plt.grid()\n",
    "plt.show()"
   ]
  },
  {
   "cell_type": "markdown",
   "metadata": {},
   "source": [
    "### Расчет распределния интенсивности в дальней зоне"
   ]
  },
  {
   "cell_type": "code",
   "execution_count": 6,
   "metadata": {},
   "outputs": [],
   "source": [
    "import cmath\n",
    "from scipy.special import jv"
   ]
  },
  {
   "cell_type": "code",
   "execution_count": 7,
   "metadata": {},
   "outputs": [],
   "source": [
    "N_dal = 10\n",
    "u_dal1 = np.zeros((N_dal,N_dal))\n",
    "leng = 100\n",
    "step = leng /(N_dal - 1)\n",
    "const_k =  5.902 *10 ** 12 # 1/mm\n",
    "lamb = 1064 * 1 * 10 ** (-9) #mm\n",
    "z = 2 # m\n",
    "a = 0.039 # m\n",
    "x_1 = 0.039 #m\n",
    "y_1 = 0.039 #m\n",
    "# Выберем произвольные фазы\n",
    "phi1 = 0\n",
    "phi2 = 2\n",
    "phi3 = 3.5\n",
    "phi4 = 4"
   ]
  },
  {
   "cell_type": "code",
   "execution_count": 8,
   "metadata": {},
   "outputs": [],
   "source": [
    "def C(u,v):\n",
    "        constant_c = cmath.exp((z * 1j * const_k *(u**2 + v**2))/2)/(1j * lamb * z)\n",
    "        return constant_c"
   ]
  },
  {
   "cell_type": "code",
   "execution_count": 9,
   "metadata": {},
   "outputs": [],
   "source": [
    "def E(tet1, tet2):\n",
    "        a = 0.039\n",
    "        x1 = 0.5 * a\n",
    "        y1 = 0.5 * a\n",
    "        x2 =  - 0.5 * a\n",
    "        y2 = 0.5 * a\n",
    "        x3 = - 0.5 * a\n",
    "        y3 = - 0.5 * a\n",
    "        x4 = 0.5 * a\n",
    "        y4 = - 0.5 * a\n",
    "        expression = (2 * math.pi* a**2 * E0 * C(tet1, tet2)*jv(1, const_k * a *math.sqrt(tet1**2 + tet2**2))/(const_k * a * math.sqrt(tet1**2 + tet2**2)))\n",
    "        summary_exp = (cmath.exp(-1j*const_k*(tet1**2*x1 + tet2**2*y1)) * cmath.exp(1j * phi1) \n",
    "                       + cmath.exp(-1j*const_k*(tet1**2*x2 + tet2**2*y2)) * cmath.exp(1j * phi2)\n",
    "                        + cmath.exp(-1j*const_k*(tet1**2*x3 + tet2**2*y3)) * cmath.exp(1j * phi3) \n",
    "                        + cmath.exp(-1j*const_k*(tet1**2*x4 + tet2**2*y4)) * cmath.exp(1j * phi4)) \n",
    "        return abs(expression * summary_exp)**2"
   ]
  },
  {
   "cell_type": "code",
   "execution_count": 10,
   "metadata": {},
   "outputs": [],
   "source": [
    "x = np.linspace(-0.1, 0.1, N_dal)\n",
    "y = np.linspace(-0.1, 0.1, N_dal)\n",
    "for i in range(len(x)):\n",
    "        for l in range(len(y)):\n",
    "                u_dal1[i][l] = E(x[i]/z, y[l]/z)\n"
   ]
  },
  {
   "cell_type": "code",
   "execution_count": 11,
   "metadata": {},
   "outputs": [
    {
     "data": {
      "image/png": "[encoded data removed]",
      "text/plain": [
       "<Figure size 1200x1000 with 2 Axes>"
      ]
     },
     "metadata": {},
     "output_type": "display_data"
    }
   ],
   "source": [
    "plt.figure(figsize=(12,10))\n",
    "plt.axes()\n",
    "xy_graph = np.linspace(-10,10, N_dal)\n",
    "X,Y = np.meshgrid(xy_graph,xy_graph)\n",
    "ax = plt.contourf(X,Y,u_dal1)\n",
    "plt.colorbar(ax)\n",
    "plt.title('Распределение интенсивности пучка в дальней зоне до фокусировки, Вт/м2')\n",
    "plt.xlabel('X, m', fontsize = 16)\n",
    "plt.ylabel('Y, m', fontsize = 16) \n",
    "plt.grid()\n",
    "plt.show()"
   ]
  },
  {
   "cell_type": "code",
   "execution_count": 12,
   "metadata": {},
   "outputs": [
    {
     "data": {
      "application/vnd.plotly.v1+json": {
       "config": {
        "plotlyServerURL": "https://plot.ly"
       },
       "data": [
        {
         "colorscale": [
          [
           0,
           "rgb(0,0,0)"
          ],
          [
           0.2,
           "rgb(30,0,100)"
          ],
          [
           0.4,
           "rgb(120,0,100)"
          ],
          [
           0.6,
           "rgb(160,90,0)"
          ],
          [
           0.8,
           "rgb(230,200,0)"
          ],
          [
           1,
           "rgb(255,250,220)"
          ]
         ],
         "contours": {
          "coloring": "heatmap"
         },
         "type": "contour",
         "z": [
          [
           0.000602245400094728,
           0.001515770093420149,
           0.0012710049700352455,
           0.0016577270284176848,
           0.000005864124539916576,
           0.000005864124539916576,
           0.0016577270284176848,
           0.0012710049700352455,
           0.001515770093420149,
           0.000602245400094728
          ],
          [
           0.0010038123289406401,
           0.0007503953766344195,
           0.0022240917808740235,
           0.001041166297983996,
           0.00027242159277784,
           0.00027242159277784,
           0.001041166297983996,
           0.0022240771594732316,
           0.0007503953766344195,
           0.0010038123289406401
          ],
          [
           0.002071799108423714,
           0.001074299317602387,
           0.0003555357247580161,
           0.00725714832713816,
           0.020182041562295028,
           0.020182041562295028,
           0.00725714810955068,
           0.0003555329585487494,
           0.001074299317602387,
           0.002071799108423714
          ],
          [
           0.0013792470286234288,
           0.0003658262075884593,
           0.02344153220646526,
           0.0402228059569269,
           0.010866558310916676,
           0.010866558310916676,
           0.04022282887680721,
           0.02344153218659317,
           0.0003658262075884593,
           0.0013792470286234288
          ],
          [
           0.000003842282258302479,
           0.000676848931923199,
           0.03530028932548143,
           0.059045379305018984,
           0.0019973125354963745,
           0.0019973125354963745,
           0.05904552718249468,
           0.035300289325481446,
           0.000676848931923199,
           0.000003842282258302479
          ],
          [
           0.000003842282258302479,
           0.000676848931923199,
           0.03530028932548143,
           0.059045379305018984,
           0.0019973125354963745,
           0.0019973125354963745,
           0.05904552718249468,
           0.035300289325481446,
           0.000676848931923199,
           0.000003842282258302479
          ],
          [
           0.0013792470286234288,
           0.0003658262075884594,
           0.023441532064867838,
           0.04022282683108825,
           0.010866585536415977,
           0.010866585536415977,
           0.04022285020514881,
           0.023441513474999787,
           0.0003658262075884594,
           0.0013792470286234288
          ],
          [
           0.002071799108423714,
           0.0010742922714769847,
           0.0003555329358797985,
           0.007257148360270724,
           0.020182041562295028,
           0.020182041562295028,
           0.00725714224261125,
           0.0003555329429283652,
           0.0010742922714769847,
           0.002071799108423714
          ],
          [
           0.0010038123289406401,
           0.0007503953766344195,
           0.0022240917808740235,
           0.001041166297983996,
           0.00027242159277784,
           0.00027242159277784,
           0.001041166297983996,
           0.0022240771594732316,
           0.0007503953766344195,
           0.0010038123289406401
          ],
          [
           0.000602245400094728,
           0.001515770093420149,
           0.0012710049700352455,
           0.0016577270284176848,
           0.000005864124539916576,
           0.000005864124539916576,
           0.0016577270284176848,
           0.0012710049700352455,
           0.001515770093420149,
           0.000602245400094728
          ]
         ]
        }
       ],
       "layout": {
        "height": 1000,
        "paper_bgcolor": "White",
        "template": {
         "data": {
          "bar": [
           {
            "error_x": {
             "color": "#2a3f5f"
            },
            "error_y": {
             "color": "#2a3f5f"
            },
            "marker": {
             "line": {
              "color": "#E5ECF6",
              "width": 0.5
             },
             "pattern": {
              "fillmode": "overlay",
              "size": 10,
              "solidity": 0.2
             }
            },
            "type": "bar"
           }
          ],
          "barpolar": [
           {
            "marker": {
             "line": {
              "color": "#E5ECF6",
              "width": 0.5
             },
             "pattern": {
              "fillmode": "overlay",
              "size": 10,
              "solidity": 0.2
             }
            },
            "type": "barpolar"
           }
          ],
          "carpet": [
           {
            "aaxis": {
             "endlinecolor": "#2a3f5f",
             "gridcolor": "white",
             "linecolor": "white",
             "minorgridcolor": "white",
             "startlinecolor": "#2a3f5f"
            },
            "baxis": {
             "endlinecolor": "#2a3f5f",
             "gridcolor": "white",
             "linecolor": "white",
             "minorgridcolor": "white",
             "startlinecolor": "#2a3f5f"
            },
            "type": "carpet"
           }
          ],
          "choropleth": [
           {
            "colorbar": {
             "outlinewidth": 0,
             "ticks": ""
            },
            "type": "choropleth"
           }
          ],
          "contour": [
           {
            "colorbar": {
             "outlinewidth": 0,
             "ticks": ""
            },
            "colorscale": [
             [
              0,
              "#0d0887"
             ],
             [
              0.1111111111111111,
              "#46039f"
             ],
             [
              0.2222222222222222,
              "#7201a8"
             ],
             [
              0.3333333333333333,
              "#9c179e"
             ],
             [
              0.4444444444444444,
              "#bd3786"
             ],
             [
              0.5555555555555556,
              "#d8576b"
             ],
             [
              0.6666666666666666,
              "#ed7953"
             ],
             [
              0.7777777777777778,
              "#fb9f3a"
             ],
             [
              0.8888888888888888,
              "#fdca26"
             ],
             [
              1,
              "#f0f921"
             ]
            ],
            "type": "contour"
           }
          ],
          "contourcarpet": [
           {
            "colorbar": {
             "outlinewidth": 0,
             "ticks": ""
            },
            "type": "contourcarpet"
           }
          ],
          "heatmap": [
           {
            "colorbar": {
             "outlinewidth": 0,
             "ticks": ""
            },
            "colorscale": [
             [
              0,
              "#0d0887"
             ],
             [
              0.1111111111111111,
              "#46039f"
             ],
             [
              0.2222222222222222,
              "#7201a8"
             ],
             [
              0.3333333333333333,
              "#9c179e"
             ],
             [
              0.4444444444444444,
              "#bd3786"
             ],
             [
              0.5555555555555556,
              "#d8576b"
             ],
             [
              0.6666666666666666,
              "#ed7953"
             ],
             [
              0.7777777777777778,
              "#fb9f3a"
             ],
             [
              0.8888888888888888,
              "#fdca26"
             ],
             [
              1,
              "#f0f921"
             ]
            ],
            "type": "heatmap"
           }
          ],
          "heatmapgl": [
           {
            "colorbar": {
             "outlinewidth": 0,
             "ticks": ""
            },
            "colorscale": [
             [
              0,
              "#0d0887"
             ],
             [
              0.1111111111111111,
              "#46039f"
             ],
             [
              0.2222222222222222,
              "#7201a8"
             ],
             [
              0.3333333333333333,
              "#9c179e"
             ],
             [
              0.4444444444444444,
              "#bd3786"
             ],
             [
              0.5555555555555556,
              "#d8576b"
             ],
             [
              0.6666666666666666,
              "#ed7953"
             ],
             [
              0.7777777777777778,
              "#fb9f3a"
             ],
             [
              0.8888888888888888,
              "#fdca26"
             ],
             [
              1,
              "#f0f921"
             ]
            ],
            "type": "heatmapgl"
           }
          ],
          "histogram": [
           {
            "marker": {
             "pattern": {
              "fillmode": "overlay",
              "size": 10,
              "solidity": 0.2
             }
            },
            "type": "histogram"
           }
          ],
          "histogram2d": [
           {
            "colorbar": {
             "outlinewidth": 0,
             "ticks": ""
            },
            "colorscale": [
             [
              0,
              "#0d0887"
             ],
             [
              0.1111111111111111,
              "#46039f"
             ],
             [
              0.2222222222222222,
              "#7201a8"
             ],
             [
              0.3333333333333333,
              "#9c179e"
             ],
             [
              0.4444444444444444,
              "#bd3786"
             ],
             [
              0.5555555555555556,
              "#d8576b"
             ],
             [
              0.6666666666666666,
              "#ed7953"
             ],
             [
              0.7777777777777778,
              "#fb9f3a"
             ],
             [
              0.8888888888888888,
              "#fdca26"
             ],
             [
              1,
              "#f0f921"
             ]
            ],
            "type": "histogram2d"
           }
          ],
          "histogram2dcontour": [
           {
            "colorbar": {
             "outlinewidth": 0,
             "ticks": ""
            },
            "colorscale": [
             [
              0,
              "#0d0887"
             ],
             [
              0.1111111111111111,
              "#46039f"
             ],
             [
              0.2222222222222222,
              "#7201a8"
             ],
             [
              0.3333333333333333,
              "#9c179e"
             ],
             [
              0.4444444444444444,
              "#bd3786"
             ],
             [
              0.5555555555555556,
              "#d8576b"
             ],
             [
              0.6666666666666666,
              "#ed7953"
             ],
             [
              0.7777777777777778,
              "#fb9f3a"
             ],
             [
              0.8888888888888888,
              "#fdca26"
             ],
             [
              1,
              "#f0f921"
             ]
            ],
            "type": "histogram2dcontour"
           }
          ],
          "mesh3d": [
           {
            "colorbar": {
             "outlinewidth": 0,
             "ticks": ""
            },
            "type": "mesh3d"
           }
          ],
          "parcoords": [
           {
            "line": {
             "colorbar": {
              "outlinewidth": 0,
              "ticks": ""
             }
            },
            "type": "parcoords"
           }
          ],
          "pie": [
           {
            "automargin": true,
            "type": "pie"
           }
          ],
          "scatter": [
           {
            "fillpattern": {
             "fillmode": "overlay",
             "size": 10,
             "solidity": 0.2
            },
            "type": "scatter"
           }
          ],
          "scatter3d": [
           {
            "line": {
             "colorbar": {
              "outlinewidth": 0,
              "ticks": ""
             }
            },
            "marker": {
             "colorbar": {
              "outlinewidth": 0,
              "ticks": ""
             }
            },
            "type": "scatter3d"
           }
          ],
          "scattercarpet": [
           {
            "marker": {
             "colorbar": {
              "outlinewidth": 0,
              "ticks": ""
             }
            },
            "type": "scattercarpet"
           }
          ],
          "scattergeo": [
           {
            "marker": {
             "colorbar": {
              "outlinewidth": 0,
              "ticks": ""
             }
            },
            "type": "scattergeo"
           }
          ],
          "scattergl": [
           {
            "marker": {
             "colorbar": {
              "outlinewidth": 0,
              "ticks": ""
             }
            },
            "type": "scattergl"
           }
          ],
          "scattermapbox": [
           {
            "marker": {
             "colorbar": {
              "outlinewidth": 0,
              "ticks": ""
             }
            },
            "type": "scattermapbox"
           }
          ],
          "scatterpolar": [
           {
            "marker": {
             "colorbar": {
              "outlinewidth": 0,
              "ticks": ""
             }
            },
            "type": "scatterpolar"
           }
          ],
          "scatterpolargl": [
           {
            "marker": {
             "colorbar": {
              "outlinewidth": 0,
              "ticks": ""
             }
            },
            "type": "scatterpolargl"
           }
          ],
          "scatterternary": [
           {
            "marker": {
             "colorbar": {
              "outlinewidth": 0,
              "ticks": ""
             }
            },
            "type": "scatterternary"
           }
          ],
          "surface": [
           {
            "colorbar": {
             "outlinewidth": 0,
             "ticks": ""
            },
            "colorscale": [
             [
              0,
              "#0d0887"
             ],
             [
              0.1111111111111111,
              "#46039f"
             ],
             [
              0.2222222222222222,
              "#7201a8"
             ],
             [
              0.3333333333333333,
              "#9c179e"
             ],
             [
              0.4444444444444444,
              "#bd3786"
             ],
             [
              0.5555555555555556,
              "#d8576b"
             ],
             [
              0.6666666666666666,
              "#ed7953"
             ],
             [
              0.7777777777777778,
              "#fb9f3a"
             ],
             [
              0.8888888888888888,
              "#fdca26"
             ],
             [
              1,
              "#f0f921"
             ]
            ],
            "type": "surface"
           }
          ],
          "table": [
           {
            "cells": {
             "fill": {
              "color": "#EBF0F8"
             },
             "line": {
              "color": "white"
             }
            },
            "header": {
             "fill": {
              "color": "#C8D4E3"
             },
             "line": {
              "color": "white"
             }
            },
            "type": "table"
           }
          ]
         },
         "layout": {
          "annotationdefaults": {
           "arrowcolor": "#2a3f5f",
           "arrowhead": 0,
           "arrowwidth": 1
          },
          "autotypenumbers": "strict",
          "coloraxis": {
           "colorbar": {
            "outlinewidth": 0,
            "ticks": ""
           }
          },
          "colorscale": {
           "diverging": [
            [
             0,
             "#8e0152"
            ],
            [
             0.1,
             "#c51b7d"
            ],
            [
             0.2,
             "#de77ae"
            ],
            [
             0.3,
             "#f1b6da"
            ],
            [
             0.4,
             "#fde0ef"
            ],
            [
             0.5,
             "#f7f7f7"
            ],
            [
             0.6,
             "#e6f5d0"
            ],
            [
             0.7,
             "#b8e186"
            ],
            [
             0.8,
             "#7fbc41"
            ],
            [
             0.9,
             "#4d9221"
            ],
            [
             1,
             "#276419"
            ]
           ],
           "sequential": [
            [
             0,
             "#0d0887"
            ],
            [
             0.1111111111111111,
             "#46039f"
            ],
            [
             0.2222222222222222,
             "#7201a8"
            ],
            [
             0.3333333333333333,
             "#9c179e"
            ],
            [
             0.4444444444444444,
             "#bd3786"
            ],
            [
             0.5555555555555556,
             "#d8576b"
            ],
            [
             0.6666666666666666,
             "#ed7953"
            ],
            [
             0.7777777777777778,
             "#fb9f3a"
            ],
            [
             0.8888888888888888,
             "#fdca26"
            ],
            [
             1,
             "#f0f921"
            ]
           ],
           "sequentialminus": [
            [
             0,
             "#0d0887"
            ],
            [
             0.1111111111111111,
             "#46039f"
            ],
            [
             0.2222222222222222,
             "#7201a8"
            ],
            [
             0.3333333333333333,
             "#9c179e"
            ],
            [
             0.4444444444444444,
             "#bd3786"
            ],
            [
             0.5555555555555556,
             "#d8576b"
            ],
            [
             0.6666666666666666,
             "#ed7953"
            ],
            [
             0.7777777777777778,
             "#fb9f3a"
            ],
            [
             0.8888888888888888,
             "#fdca26"
            ],
            [
             1,
             "#f0f921"
            ]
           ]
          },
          "colorway": [
           "#636efa",
           "#EF553B",
           "#00cc96",
           "#ab63fa",
           "#FFA15A",
           "#19d3f3",
           "#FF6692",
           "#B6E880",
           "#FF97FF",
           "#FECB52"
          ],
          "font": {
           "color": "#2a3f5f"
          },
          "geo": {
           "bgcolor": "white",
           "lakecolor": "white",
           "landcolor": "#E5ECF6",
           "showlakes": true,
           "showland": true,
           "subunitcolor": "white"
          },
          "hoverlabel": {
           "align": "left"
          },
          "hovermode": "closest",
          "mapbox": {
           "style": "light"
          },
          "paper_bgcolor": "white",
          "plot_bgcolor": "#E5ECF6",
          "polar": {
           "angularaxis": {
            "gridcolor": "white",
            "linecolor": "white",
            "ticks": ""
           },
           "bgcolor": "#E5ECF6",
           "radialaxis": {
            "gridcolor": "white",
            "linecolor": "white",
            "ticks": ""
           }
          },
          "scene": {
           "xaxis": {
            "backgroundcolor": "#E5ECF6",
            "gridcolor": "white",
            "gridwidth": 2,
            "linecolor": "white",
            "showbackground": true,
            "ticks": "",
            "zerolinecolor": "white"
           },
           "yaxis": {
            "backgroundcolor": "#E5ECF6",
            "gridcolor": "white",
            "gridwidth": 2,
            "linecolor": "white",
            "showbackground": true,
            "ticks": "",
            "zerolinecolor": "white"
           },
           "zaxis": {
            "backgroundcolor": "#E5ECF6",
            "gridcolor": "white",
            "gridwidth": 2,
            "linecolor": "white",
            "showbackground": true,
            "ticks": "",
            "zerolinecolor": "white"
           }
          },
          "shapedefaults": {
           "line": {
            "color": "#2a3f5f"
           }
          },
          "ternary": {
           "aaxis": {
            "gridcolor": "white",
            "linecolor": "white",
            "ticks": ""
           },
           "baxis": {
            "gridcolor": "white",
            "linecolor": "white",
            "ticks": ""
           },
           "bgcolor": "#E5ECF6",
           "caxis": {
            "gridcolor": "white",
            "linecolor": "white",
            "ticks": ""
           }
          },
          "title": {
           "x": 0.05
          },
          "xaxis": {
           "automargin": true,
           "gridcolor": "white",
           "linecolor": "white",
           "ticks": "",
           "title": {
            "standoff": 15
           },
           "zerolinecolor": "white",
           "zerolinewidth": 2
          },
          "yaxis": {
           "automargin": true,
           "gridcolor": "white",
           "linecolor": "white",
           "ticks": "",
           "title": {
            "standoff": 15
           },
           "zerolinecolor": "white",
           "zerolinewidth": 2
          }
         }
        },
        "title": {
         "text": "Распределение интенсивности пучка в дальней зоне до фокусировки, Вт/м2"
        },
        "width": 1000
       }
      }
     },
     "metadata": {},
     "output_type": "display_data"
    }
   ],
   "source": [
    "fig = go.Figure(data = go.Contour(z = u_dal1,  colorscale='electric', \n",
    "            contours=dict(coloring ='heatmap'\n",
    "            )))\n",
    "fig.update_layout(\n",
    "    title = 'Распределение интенсивности пучка в дальней зоне до фокусировки, Вт/м2',\n",
    "    width=1000,\n",
    "    height=1000,\n",
    "    paper_bgcolor=\"White\"\n",
    ")\n",
    "fig.show()\n",
    "fig.write_html(\"Распределение интенсивности пучка в дальней зоне до фокусировки.html\")"
   ]
  },
  {
   "cell_type": "markdown",
   "metadata": {},
   "source": [
    "Для того, чтобы сфазировать 4 лазера нужно найти экстремум функции:\n",
    "\\begin{equation*}\n",
    "    e^{i\\varphi _1} * e^{-ik\\theta _x R} + e^{i\\varphi _2} * e^{ik\\theta _x R} + e^{i\\varphi _3} * e^{ik\\theta _x R} + e^{i\\varphi _4} * e^{-ik\\theta _x R}\n",
    "\\end{equation*}"
   ]
  },
  {
   "cell_type": "code",
   "execution_count": 15,
   "metadata": {},
   "outputs": [
    {
     "name": "stdout",
     "output_type": "stream",
     "text": [
      "Максимальное значение модуля: 4.0\n",
      "Оптимальные значения h2, h3 и h4: 0.0 0.0 0.0\n"
     ]
    }
   ],
   "source": [
    "# метод оптимизации\n",
    "import numpy as np\n",
    "from scipy.optimize import minimize\n",
    "k=5902255\n",
    "a=0.0195\n",
    "# Определение функции, модуль которой мы хотим максимизировать\n",
    "def objective_function(x):\n",
    "    h2, h3, h4 = x\n",
    "    q_values = np.linspace(0, 2 * np.pi, 1000)  # Значения q от 0 до 2*pi\n",
    "    max_mod = 0\n",
    "\n",
    "    for q in q_values:\n",
    "        expression = np.exp(-1j * k * q * a) + np.exp(1j * h2) * np.exp(1j * k * q * a) + np.exp(1j * h3) * np.exp(1j * k * q * a) + np.exp(1j * h4) * np.exp(-1j * k * q * a)\n",
    "        mod_expression = np.abs(expression)\n",
    "        max_mod = max(max_mod, mod_expression)\n",
    "\n",
    "    return -max_mod  # Минус перед max_mod, так как minimize ищет минимум\n",
    "\n",
    "# Начальные значения h2, h3 и h4\n",
    "initial_guess = [0, 0, 0]\n",
    "\n",
    "# Ограничения для h2, h3 и h4\n",
    "constraints = ((0, 2 * np.pi), (0, 2 * np.pi), (0, 2 * np.pi))\n",
    "\n",
    "# Поиск максимума модуля функции\n",
    "result = minimize(objective_function, initial_guess, bounds=constraints)\n",
    "\n",
    "# Вывод результатов\n",
    "h2_opt, h3_opt, h4_opt = result.x\n",
    "max_mod_value = -result.fun\n",
    "\n",
    "print(\"Максимальное значение модуля:\", max_mod_value)\n",
    "print(\"Оптимальные значения h2, h3 и h4:\", h2_opt, h3_opt, h4_opt)"
   ]
  },
  {
   "cell_type": "markdown",
   "metadata": {},
   "source": [
    "Был получен ожидаемый результат). Действительно Данная поверхность имеет множество максимумов в точках 2*pi*N, где N - целое число"
   ]
  },
  {
   "cell_type": "markdown",
   "metadata": {},
   "source": [
    "### Распределение интенсивности в дальней зоне после фокусировки"
   ]
  },
  {
   "cell_type": "code",
   "execution_count": 16,
   "metadata": {},
   "outputs": [],
   "source": [
    "N_dal = 10\n",
    "u_dal1 = np.zeros((N_dal,N_dal))\n",
    "leng = 100\n",
    "step = leng /(N_dal - 1)\n",
    "const_k =  5.902 *10 ** 12 # 1/mm\n",
    "lamb = 1064 * 1 * 10 ** (-9) #mm\n",
    "z = 0.1 # m\n",
    "a = 0.039 # m\n",
    "x_1 = 0.039 #m\n",
    "y_1 = 0.039 #m\n",
    "# Выберем произвольные фазы\n",
    "phi1 = 0\n",
    "phi2 = 2\n",
    "phi3 = 3.5\n",
    "phi4 = 4"
   ]
  },
  {
   "cell_type": "code",
   "execution_count": 17,
   "metadata": {},
   "outputs": [],
   "source": [
    "def E_foc(tet1, tet2):\n",
    "        a = 0.039\n",
    "        x1 = 0.5 * a\n",
    "        y1 = 0.5 * a\n",
    "        x2 =  - 0.5 * a\n",
    "        y2 = 0.5 * a\n",
    "        x3 = - 0.5 * a\n",
    "        y3 = - 0.5 * a\n",
    "        x4 = 0.5 * a\n",
    "        y4 = - 0.5 * a\n",
    "        expression = (2 * math.pi* a**2 * E0 * C(tet1, tet2)*jv(1, const_k * a *math.sqrt(tet1**2 + tet2**2))/(const_k * a * math.sqrt(tet1**2 + tet2**2)))\n",
    "        summary_exp = (cmath.exp(-1j*const_k*(tet1**2*x1 + tet2**2*y1)) \n",
    "                       + cmath.exp(-1j*const_k*(tet1**2*x2 + tet2**2*y2))\n",
    "                        + cmath.exp(-1j*const_k*(tet1**2*x3 + tet2**2*y3)) \n",
    "                        + cmath.exp(-1j*const_k*(tet1**2*x4 + tet2**2*y4))) \n",
    "        return abs(expression * summary_exp)**2"
   ]
  },
  {
   "cell_type": "code",
   "execution_count": 18,
   "metadata": {},
   "outputs": [],
   "source": [
    "x = np.linspace(-0.1, 0.1, N_dal)\n",
    "y = np.linspace(-0.1, 0.1, N_dal)\n",
    "for i in range(len(x)):\n",
    "        for l in range(len(y)):\n",
    "                u_dal1[i][l] = E_foc(x[i]/z, y[l]/z)"
   ]
  },
  {
   "cell_type": "code",
   "execution_count": 19,
   "metadata": {},
   "outputs": [
    {
     "data": {
      "image/png": "[encoded data removed]",
      "text/plain": [
       "<Figure size 1200x1000 with 2 Axes>"
      ]
     },
     "metadata": {},
     "output_type": "display_data"
    }
   ],
   "source": [
    "plt.figure(figsize=(12,10))\n",
    "plt.axes()\n",
    "xy_graph = np.linspace(-10,10, N_dal)\n",
    "X,Y = np.meshgrid(xy_graph,xy_graph)\n",
    "ax = plt.contourf(X,Y,u_dal1)\n",
    "plt.colorbar(ax)\n",
    "plt.title('Распределение интенсивности пучка в дальней зоне после фокусировки, Вт/м2')\n",
    "plt.xlabel('X, m', fontsize = 16)\n",
    "plt.ylabel('Y, m', fontsize = 16) \n",
    "plt.grid()\n",
    "plt.show()"
   ]
  },
  {
   "cell_type": "code",
   "execution_count": 20,
   "metadata": {},
   "outputs": [
    {
     "data": {
      "application/vnd.plotly.v1+json": {
       "config": {
        "plotlyServerURL": "https://plot.ly"
       },
       "data": [
        {
         "colorscale": [
          [
           0,
           "rgb(0,0,0)"
          ],
          [
           0.2,
           "rgb(30,0,100)"
          ],
          [
           0.4,
           "rgb(120,0,100)"
          ],
          [
           0.6,
           "rgb(160,90,0)"
          ],
          [
           0.8,
           "rgb(230,200,0)"
          ],
          [
           1,
           "rgb(255,250,220)"
          ]
         ],
         "contours": {
          "coloring": "heatmap"
         },
         "type": "contour",
         "z": [
          [
           0.000004686541199280546,
           0.00000203037542648991,
           0.0001159188612242513,
           0.00024673819492960987,
           5.413662567315901e-7,
           5.413662567315901e-7,
           0.00024673819492960987,
           0.00011592095583157008,
           0.00000203037542648991,
           0.000004686541199280546
          ],
          [
           0.00000203037542648991,
           0.0001434873196086569,
           0.00004849861621252366,
           0.00012902883011077564,
           0.0005186530266955123,
           0.0005186530266955123,
           0.00012903214896218296,
           0.00004849952177753892,
           0.0001434873196086569,
           0.00000203037542648991
          ],
          [
           0.0001159188612242513,
           0.00004849861621252366,
           0.0005990488710853431,
           0.0006597698300866097,
           0.001167032449274514,
           0.001167032449274514,
           0.0006597471851013386,
           0.0005990600566542269,
           0.00004849861621252366,
           0.0001159188612242513
          ],
          [
           0.00024673819492960987,
           0.00012902883011077564,
           0.0006597698300866097,
           0.0021938899339546737,
           0.0026869580735224127,
           0.0026869580735224127,
           0.0021939008969070906,
           0.0006597436969009466,
           0.00012902883011077564,
           0.00024673819492960987
          ],
          [
           5.413662567315901e-7,
           0.0005186530266955123,
           0.001167032449274514,
           0.0026869580735224127,
           0.03318995714132995,
           0.03318995714132995,
           0.0026869229568330013,
           0.0011670841960985552,
           0.0005186530266955123,
           5.413662567315901e-7
          ],
          [
           5.413662567315901e-7,
           0.0005186530266955123,
           0.001167032449274514,
           0.0026869580735224127,
           0.03318995714132995,
           0.03318995714132995,
           0.0026869229568330013,
           0.0011670841960985552,
           0.0005186530266955123,
           5.413662567315901e-7
          ],
          [
           0.00024673819492960987,
           0.00012903214896218296,
           0.0006597471851013386,
           0.0021939008969070906,
           0.0026869229568330013,
           0.0026869229568330013,
           0.0021939369277557005,
           0.0006597595039379594,
           0.00012903214896218296,
           0.00024673819492960987
          ],
          [
           0.00011592095583157008,
           0.00004849952177753892,
           0.0005990600566542269,
           0.0006597436969009466,
           0.0011670841960985552,
           0.0011670841960985552,
           0.0006597595039379594,
           0.0005990712424344582,
           0.00004849952177753892,
           0.00011592095583157008
          ],
          [
           0.00000203037542648991,
           0.0001434873196086569,
           0.00004849861621252366,
           0.00012902883011077564,
           0.0005186530266955123,
           0.0005186530266955123,
           0.00012903214896218296,
           0.00004849952177753892,
           0.0001434873196086569,
           0.00000203037542648991
          ],
          [
           0.000004686541199280546,
           0.00000203037542648991,
           0.0001159188612242513,
           0.00024673819492960987,
           5.413662567315901e-7,
           5.413662567315901e-7,
           0.00024673819492960987,
           0.00011592095583157008,
           0.00000203037542648991,
           0.000004686541199280546
          ]
         ]
        }
       ],
       "layout": {
        "height": 1000,
        "paper_bgcolor": "White",
        "template": {
         "data": {
          "bar": [
           {
            "error_x": {
             "color": "#2a3f5f"
            },
            "error_y": {
             "color": "#2a3f5f"
            },
            "marker": {
             "line": {
              "color": "#E5ECF6",
              "width": 0.5
             },
             "pattern": {
              "fillmode": "overlay",
              "size": 10,
              "solidity": 0.2
             }
            },
            "type": "bar"
           }
          ],
          "barpolar": [
           {
            "marker": {
             "line": {
              "color": "#E5ECF6",
              "width": 0.5
             },
             "pattern": {
              "fillmode": "overlay",
              "size": 10,
              "solidity": 0.2
             }
            },
            "type": "barpolar"
           }
          ],
          "carpet": [
           {
            "aaxis": {
             "endlinecolor": "#2a3f5f",
             "gridcolor": "white",
             "linecolor": "white",
             "minorgridcolor": "white",
             "startlinecolor": "#2a3f5f"
            },
            "baxis": {
             "endlinecolor": "#2a3f5f",
             "gridcolor": "white",
             "linecolor": "white",
             "minorgridcolor": "white",
             "startlinecolor": "#2a3f5f"
            },
            "type": "carpet"
           }
          ],
          "choropleth": [
           {
            "colorbar": {
             "outlinewidth": 0,
             "ticks": ""
            },
            "type": "choropleth"
           }
          ],
          "contour": [
           {
            "colorbar": {
             "outlinewidth": 0,
             "ticks": ""
            },
            "colorscale": [
             [
              0,
              "#0d0887"
             ],
             [
              0.1111111111111111,
              "#46039f"
             ],
             [
              0.2222222222222222,
              "#7201a8"
             ],
             [
              0.3333333333333333,
              "#9c179e"
             ],
             [
              0.4444444444444444,
              "#bd3786"
             ],
             [
              0.5555555555555556,
              "#d8576b"
             ],
             [
              0.6666666666666666,
              "#ed7953"
             ],
             [
              0.7777777777777778,
              "#fb9f3a"
             ],
             [
              0.8888888888888888,
              "#fdca26"
             ],
             [
              1,
              "#f0f921"
             ]
            ],
            "type": "contour"
           }
          ],
          "contourcarpet": [
           {
            "colorbar": {
             "outlinewidth": 0,
             "ticks": ""
            },
            "type": "contourcarpet"
           }
          ],
          "heatmap": [
           {
            "colorbar": {
             "outlinewidth": 0,
             "ticks": ""
            },
            "colorscale": [
             [
              0,
              "#0d0887"
             ],
             [
              0.1111111111111111,
              "#46039f"
             ],
             [
              0.2222222222222222,
              "#7201a8"
             ],
             [
              0.3333333333333333,
              "#9c179e"
             ],
             [
              0.4444444444444444,
              "#bd3786"
             ],
             [
              0.5555555555555556,
              "#d8576b"
             ],
             [
              0.6666666666666666,
              "#ed7953"
             ],
             [
              0.7777777777777778,
              "#fb9f3a"
             ],
             [
              0.8888888888888888,
              "#fdca26"
             ],
             [
              1,
              "#f0f921"
             ]
            ],
            "type": "heatmap"
           }
          ],
          "heatmapgl": [
           {
            "colorbar": {
             "outlinewidth": 0,
             "ticks": ""
            },
            "colorscale": [
             [
              0,
              "#0d0887"
             ],
             [
              0.1111111111111111,
              "#46039f"
             ],
             [
              0.2222222222222222,
              "#7201a8"
             ],
             [
              0.3333333333333333,
              "#9c179e"
             ],
             [
              0.4444444444444444,
              "#bd3786"
             ],
             [
              0.5555555555555556,
              "#d8576b"
             ],
             [
              0.6666666666666666,
              "#ed7953"
             ],
             [
              0.7777777777777778,
              "#fb9f3a"
             ],
             [
              0.8888888888888888,
              "#fdca26"
             ],
             [
              1,
              "#f0f921"
             ]
            ],
            "type": "heatmapgl"
           }
          ],
          "histogram": [
           {
            "marker": {
             "pattern": {
              "fillmode": "overlay",
              "size": 10,
              "solidity": 0.2
             }
            },
            "type": "histogram"
           }
          ],
          "histogram2d": [
           {
            "colorbar": {
             "outlinewidth": 0,
             "ticks": ""
            },
            "colorscale": [
             [
              0,
              "#0d0887"
             ],
             [
              0.1111111111111111,
              "#46039f"
             ],
             [
              0.2222222222222222,
              "#7201a8"
             ],
             [
              0.3333333333333333,
              "#9c179e"
             ],
             [
              0.4444444444444444,
              "#bd3786"
             ],
             [
              0.5555555555555556,
              "#d8576b"
             ],
             [
              0.6666666666666666,
              "#ed7953"
             ],
             [
              0.7777777777777778,
              "#fb9f3a"
             ],
             [
              0.8888888888888888,
              "#fdca26"
             ],
             [
              1,
              "#f0f921"
             ]
            ],
            "type": "histogram2d"
           }
          ],
          "histogram2dcontour": [
           {
            "colorbar": {
             "outlinewidth": 0,
             "ticks": ""
            },
            "colorscale": [
             [
              0,
              "#0d0887"
             ],
             [
              0.1111111111111111,
              "#46039f"
             ],
             [
              0.2222222222222222,
              "#7201a8"
             ],
             [
              0.3333333333333333,
              "#9c179e"
             ],
             [
              0.4444444444444444,
              "#bd3786"
             ],
             [
              0.5555555555555556,
              "#d8576b"
             ],
             [
              0.6666666666666666,
              "#ed7953"
             ],
             [
              0.7777777777777778,
              "#fb9f3a"
             ],
             [
              0.8888888888888888,
              "#fdca26"
             ],
             [
              1,
              "#f0f921"
             ]
            ],
            "type": "histogram2dcontour"
           }
          ],
          "mesh3d": [
           {
            "colorbar": {
             "outlinewidth": 0,
             "ticks": ""
            },
            "type": "mesh3d"
           }
          ],
          "parcoords": [
           {
            "line": {
             "colorbar": {
              "outlinewidth": 0,
              "ticks": ""
             }
            },
            "type": "parcoords"
           }
          ],
          "pie": [
           {
            "automargin": true,
            "type": "pie"
           }
          ],
          "scatter": [
           {
            "fillpattern": {
             "fillmode": "overlay",
             "size": 10,
             "solidity": 0.2
            },
            "type": "scatter"
           }
          ],
          "scatter3d": [
           {
            "line": {
             "colorbar": {
              "outlinewidth": 0,
              "ticks": ""
             }
            },
            "marker": {
             "colorbar": {
              "outlinewidth": 0,
              "ticks": ""
             }
            },
            "type": "scatter3d"
           }
          ],
          "scattercarpet": [
           {
            "marker": {
             "colorbar": {
              "outlinewidth": 0,
              "ticks": ""
             }
            },
            "type": "scattercarpet"
           }
          ],
          "scattergeo": [
           {
            "marker": {
             "colorbar": {
              "outlinewidth": 0,
              "ticks": ""
             }
            },
            "type": "scattergeo"
           }
          ],
          "scattergl": [
           {
            "marker": {
             "colorbar": {
              "outlinewidth": 0,
              "ticks": ""
             }
            },
            "type": "scattergl"
           }
          ],
          "scattermapbox": [
           {
            "marker": {
             "colorbar": {
              "outlinewidth": 0,
              "ticks": ""
             }
            },
            "type": "scattermapbox"
           }
          ],
          "scatterpolar": [
           {
            "marker": {
             "colorbar": {
              "outlinewidth": 0,
              "ticks": ""
             }
            },
            "type": "scatterpolar"
           }
          ],
          "scatterpolargl": [
           {
            "marker": {
             "colorbar": {
              "outlinewidth": 0,
              "ticks": ""
             }
            },
            "type": "scatterpolargl"
           }
          ],
          "scatterternary": [
           {
            "marker": {
             "colorbar": {
              "outlinewidth": 0,
              "ticks": ""
             }
            },
            "type": "scatterternary"
           }
          ],
          "surface": [
           {
            "colorbar": {
             "outlinewidth": 0,
             "ticks": ""
            },
            "colorscale": [
             [
              0,
              "#0d0887"
             ],
             [
              0.1111111111111111,
              "#46039f"
             ],
             [
              0.2222222222222222,
              "#7201a8"
             ],
             [
              0.3333333333333333,
              "#9c179e"
             ],
             [
              0.4444444444444444,
              "#bd3786"
             ],
             [
              0.5555555555555556,
              "#d8576b"
             ],
             [
              0.6666666666666666,
              "#ed7953"
             ],
             [
              0.7777777777777778,
              "#fb9f3a"
             ],
             [
              0.8888888888888888,
              "#fdca26"
             ],
             [
              1,
              "#f0f921"
             ]
            ],
            "type": "surface"
           }
          ],
          "table": [
           {
            "cells": {
             "fill": {
              "color": "#EBF0F8"
             },
             "line": {
              "color": "white"
             }
            },
            "header": {
             "fill": {
              "color": "#C8D4E3"
             },
             "line": {
              "color": "white"
             }
            },
            "type": "table"
           }
          ]
         },
         "layout": {
          "annotationdefaults": {
           "arrowcolor": "#2a3f5f",
           "arrowhead": 0,
           "arrowwidth": 1
          },
          "autotypenumbers": "strict",
          "coloraxis": {
           "colorbar": {
            "outlinewidth": 0,
            "ticks": ""
           }
          },
          "colorscale": {
           "diverging": [
            [
             0,
             "#8e0152"
            ],
            [
             0.1,
             "#c51b7d"
            ],
            [
             0.2,
             "#de77ae"
            ],
            [
             0.3,
             "#f1b6da"
            ],
            [
             0.4,
             "#fde0ef"
            ],
            [
             0.5,
             "#f7f7f7"
            ],
            [
             0.6,
             "#e6f5d0"
            ],
            [
             0.7,
             "#b8e186"
            ],
            [
             0.8,
             "#7fbc41"
            ],
            [
             0.9,
             "#4d9221"
            ],
            [
             1,
             "#276419"
            ]
           ],
           "sequential": [
            [
             0,
             "#0d0887"
            ],
            [
             0.1111111111111111,
             "#46039f"
            ],
            [
             0.2222222222222222,
             "#7201a8"
            ],
            [
             0.3333333333333333,
             "#9c179e"
            ],
            [
             0.4444444444444444,
             "#bd3786"
            ],
            [
             0.5555555555555556,
             "#d8576b"
            ],
            [
             0.6666666666666666,
             "#ed7953"
            ],
            [
             0.7777777777777778,
             "#fb9f3a"
            ],
            [
             0.8888888888888888,
             "#fdca26"
            ],
            [
             1,
             "#f0f921"
            ]
           ],
           "sequentialminus": [
            [
             0,
             "#0d0887"
            ],
            [
             0.1111111111111111,
             "#46039f"
            ],
            [
             0.2222222222222222,
             "#7201a8"
            ],
            [
             0.3333333333333333,
             "#9c179e"
            ],
            [
             0.4444444444444444,
             "#bd3786"
            ],
            [
             0.5555555555555556,
             "#d8576b"
            ],
            [
             0.6666666666666666,
             "#ed7953"
            ],
            [
             0.7777777777777778,
             "#fb9f3a"
            ],
            [
             0.8888888888888888,
             "#fdca26"
            ],
            [
             1,
             "#f0f921"
            ]
           ]
          },
          "colorway": [
           "#636efa",
           "#EF553B",
           "#00cc96",
           "#ab63fa",
           "#FFA15A",
           "#19d3f3",
           "#FF6692",
           "#B6E880",
           "#FF97FF",
           "#FECB52"
          ],
          "font": {
           "color": "#2a3f5f"
          },
          "geo": {
           "bgcolor": "white",
           "lakecolor": "white",
           "landcolor": "#E5ECF6",
           "showlakes": true,
           "showland": true,
           "subunitcolor": "white"
          },
          "hoverlabel": {
           "align": "left"
          },
          "hovermode": "closest",
          "mapbox": {
           "style": "light"
          },
          "paper_bgcolor": "white",
          "plot_bgcolor": "#E5ECF6",
          "polar": {
           "angularaxis": {
            "gridcolor": "white",
            "linecolor": "white",
            "ticks": ""
           },
           "bgcolor": "#E5ECF6",
           "radialaxis": {
            "gridcolor": "white",
            "linecolor": "white",
            "ticks": ""
           }
          },
          "scene": {
           "xaxis": {
            "backgroundcolor": "#E5ECF6",
            "gridcolor": "white",
            "gridwidth": 2,
            "linecolor": "white",
            "showbackground": true,
            "ticks": "",
            "zerolinecolor": "white"
           },
           "yaxis": {
            "backgroundcolor": "#E5ECF6",
            "gridcolor": "white",
            "gridwidth": 2,
            "linecolor": "white",
            "showbackground": true,
            "ticks": "",
            "zerolinecolor": "white"
           },
           "zaxis": {
            "backgroundcolor": "#E5ECF6",
            "gridcolor": "white",
            "gridwidth": 2,
            "linecolor": "white",
            "showbackground": true,
            "ticks": "",
            "zerolinecolor": "white"
           }
          },
          "shapedefaults": {
           "line": {
            "color": "#2a3f5f"
           }
          },
          "ternary": {
           "aaxis": {
            "gridcolor": "white",
            "linecolor": "white",
            "ticks": ""
           },
           "baxis": {
            "gridcolor": "white",
            "linecolor": "white",
            "ticks": ""
           },
           "bgcolor": "#E5ECF6",
           "caxis": {
            "gridcolor": "white",
            "linecolor": "white",
            "ticks": ""
           }
          },
          "title": {
           "x": 0.05
          },
          "xaxis": {
           "automargin": true,
           "gridcolor": "white",
           "linecolor": "white",
           "ticks": "",
           "title": {
            "standoff": 15
           },
           "zerolinecolor": "white",
           "zerolinewidth": 2
          },
          "yaxis": {
           "automargin": true,
           "gridcolor": "white",
           "linecolor": "white",
           "ticks": "",
           "title": {
            "standoff": 15
           },
           "zerolinecolor": "white",
           "zerolinewidth": 2
          }
         }
        },
        "title": {
         "text": "Распределение интенсивности пучка в дальней зоне до фокусировки, Вт/м2"
        },
        "width": 1000
       }
      }
     },
     "metadata": {},
     "output_type": "display_data"
    }
   ],
   "source": [
    "fig = go.Figure(data = go.Contour(z = u_dal1,  colorscale='electric', \n",
    "            contours=dict(coloring ='heatmap'\n",
    "            )))\n",
    "fig.update_layout(\n",
    "    title = 'Распределение интенсивности пучка в дальней зоне до фокусировки, Вт/м2',\n",
    "    width=1000,\n",
    "    height=1000,\n",
    "    paper_bgcolor=\"White\"\n",
    ")\n",
    "fig.show()\n",
    "fig.write_html(\"Распределение интенсивности пучка в дальней зоне после фокусировки.html\")"
   ]
  },
  {
   "cell_type": "markdown",
   "metadata": {},
   "source": [
    "Проварьируем продольную координату, посмотрим, что будет"
   ]
  },
  {
   "cell_type": "code",
   "execution_count": 21,
   "metadata": {},
   "outputs": [],
   "source": [
    "def C_var_foc(u,v, z):\n",
    "        constant_c = cmath.exp((z * 1j * const_k *(u**2 + v**2))/2)/(1j * lamb * z)\n",
    "        return constant_c\n",
    "def E_var_foc(tet1, tet2, z):\n",
    "        a = 0.039\n",
    "        x1 = 0.5 * a\n",
    "        y1 = 0.5 * a\n",
    "        x2 =  - 0.5 * a\n",
    "        y2 = 0.5 * a\n",
    "        x3 = - 0.5 * a\n",
    "        y3 = - 0.5 * a\n",
    "        x4 = 0.5 * a\n",
    "        y4 = - 0.5 * a\n",
    "        expression = (2 * math.pi* a**2 * E0 * C_var(tet1, tet2, z)*jv(1, const_k * a *math.sqrt(tet1**2 + tet2**2))/(const_k * a * math.sqrt(tet1**2 + tet2**2)))\n",
    "        summary_exp = (cmath.exp(-1j*const_k*(tet1**2*x1 + tet2**2*y1)) * cmath.exp(1j * phi1) \n",
    "                       + cmath.exp(-1j*const_k*(tet1**2*x2 + tet2**2*y2)) * cmath.exp(1j * phi2)\n",
    "                        + cmath.exp(-1j*const_k*(tet1**2*x3 + tet2**2*y3)) * cmath.exp(1j * phi3) \n",
    "                        + cmath.exp(-1j*const_k*(tet1**2*x4 + tet2**2*y4)) * cmath.exp(1j * phi4)) \n",
    "        return abs(expression * summary_exp)**2"
   ]
  },
  {
   "cell_type": "code",
   "execution_count": 22,
   "metadata": {},
   "outputs": [
    {
     "data": {
      "image/png": "[encoded data removed]",
      "text/plain": [
       "<Figure size 2000x2000 with 12 Axes>"
      ]
     },
     "metadata": {},
     "output_type": "display_data"
    }
   ],
   "source": [
    "z = [0.1, 0.2, 0.4, 0.5, 0.8, 1.1, 2, 4, 5.5, 7, 10, 15]\n",
    "x_var = np.linspace(-0.1, 0.1, N_dal)\n",
    "y_var = np.linspace(-0.1, 0.1, N_dal)\n",
    "xy_graph = np.linspace(-10,10, N_dal)\n",
    "X,Y = np.meshgrid(xy_graph,xy_graph)\n",
    "plt.figure(figsize=(20, 20))\n",
    "plt.suptitle(\"Распределение интенсивности при разных значениях продольных координат после фокусировки\", fontsize=18)\n",
    "point = 0\n",
    "for t in z:\n",
    "        for i in range(len(x)):\n",
    "                for l in range(len(y)):\n",
    "                        u_dal1[i][l] = E_var_foc(x[i]/t, y[l]/t, t)\n",
    "        ax = plt.subplot(6, 6, point + 1)\n",
    "        plt.title('Z = ' + str(t)+ ' м')\n",
    "        ax = plt.contourf(X,Y,u_dal1)\n",
    "        point += 1\n",
    " "
   ]
  },
  {
   "cell_type": "markdown",
   "metadata": {},
   "source": [
    "Как видно из графиков, при разных значениях координат получаются разные картины распределния максимума интенсивности. Это связано с тем, что продольная координата влияет на осевую интенсивность и на размер огибающей."
   ]
  }
 ],
 "metadata": {
  "kernelspec": {
   "display_name": "Python 3",
   "language": "python",
   "name": "python3"
  },
  "language_info": {
   "codemirror_mode": {
    "name": "ipython",
    "version": 3
   },
   "file_extension": ".py",
   "mimetype": "text/x-python",
   "name": "python",
   "nbconvert_exporter": "python",
   "pygments_lexer": "ipython3",
   "version": "3.10.11"
  }
 },
 "nbformat": 4,
 "nbformat_minor": 2
}
